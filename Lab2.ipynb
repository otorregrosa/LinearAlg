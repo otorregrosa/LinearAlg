{
  "nbformat": 4,
  "nbformat_minor": 0,
  "metadata": {
    "colab": {
      "name": "Untitled1.ipynb",
      "provenance": [],
      "authorship_tag": "ABX9TyP2EVxDaCtLideF/d9zQOrI",
      "include_colab_link": true
    },
    "kernelspec": {
      "name": "python3",
      "display_name": "Python 3"
    }
  },
  "cells": [
    {
      "cell_type": "markdown",
      "metadata": {
        "id": "view-in-github",
        "colab_type": "text"
      },
      "source": [
        "<a href=\"https://colab.research.google.com/github/otorregrosa/LinearAlg/blob/main/Lab2.ipynb\" target=\"_parent\"><img src=\"https://colab.research.google.com/assets/colab-badge.svg\" alt=\"Open In Colab\"/></a>"
      ]
    },
    {
      "cell_type": "code",
      "metadata": {
        "colab": {
          "base_uri": "https://localhost:8080/",
          "height": 350
        },
        "id": "KcCUrRm-0TXa",
        "outputId": "3edc3410-06fb-4cd8-aeee-07f30c1bd383"
      },
      "source": [
        "import numpy as np\r\n",
        "import matplotlib.pyplot as plt\r\n",
        "import matplotlib\r\n",
        "A = np.array([1,3])\r\n",
        "B = np.array([2,4])\r\n",
        "C = np.array([5,7])\r\n",
        "D = np.array([6,8])\r\n",
        "E = np.array([9,11])\r\n",
        "\r\n",
        "print('Vector A is ', A)\r\n",
        "print('Vector B is ', B)\r\n",
        "print('Vector C is ', C)\r\n",
        "print('Vector D is ', D)\r\n",
        "print('Vector E is ', E)\r\n",
        "\r\n",
        "plt.scatter(A[0],A[1], label='A', c='magenta')\r\n",
        "plt.scatter(B[0],B[1], label='B', c='mediumspringgreen')\r\n",
        "plt.scatter(C[0],A[1], label='C', c='black')\r\n",
        "plt.scatter(D[0],B[1], label='D', c='violet')\r\n",
        "plt.scatter(E[0],A[1], label='E', c='purple')\r\n",
        "plt.xlim(0, 15)\r\n",
        "plt.ylim(0, 15)\r\n",
        "plt.grid()\r\n",
        "plt.legend()\r\n",
        "plt.show()"
      ],
      "execution_count": 32,
      "outputs": [
        {
          "output_type": "stream",
          "text": [
            "Vector A is  [1 3]\n",
            "Vector B is  [2 4]\n",
            "Vector C is  [5 7]\n",
            "Vector D is  [6 8]\n",
            "Vector E is  [ 9 11]\n"
          ],
          "name": "stdout"
        },
        {
          "output_type": "display_data",
          "data": {
            "image/png": "[encoded data removed]",
            "text/plain": [
              "<Figure size 432x288 with 1 Axes>"
            ]
          },
          "metadata": {
            "tags": [],
            "needs_background": "light"
          }
        }
      ]
    },
    {
      "cell_type": "markdown",
      "metadata": {
        "id": "Wuz5OEN4BckG"
      },
      "source": [
        "This shows where the given vectors are plotted"
      ]
    },
    {
      "cell_type": "code",
      "metadata": {
        "colab": {
          "base_uri": "https://localhost:8080/",
          "height": 282
        },
        "id": "06J-sF5X2R61",
        "outputId": "299d18d3-721e-4270-a380-e3e288c1ca9a"
      },
      "source": [
        "position1 = np.array([A])\r\n",
        "position2 = np.array([B])\r\n",
        "position3 = np.array([C])\r\n",
        "position4 = np.array([D])\r\n",
        "\r\n",
        "R = position3 + position1\r\n",
        "X = np.subtract(R, position1)\r\n",
        "print('Vector X is ', X)\r\n",
        "plt.scatter(X[0],X[0], label='X', c='magenta')\r\n",
        "plt.xlim(0, 15)\r\n",
        "plt.ylim(0, 15)\r\n",
        "plt.grid()\r\n",
        "plt.legend()\r\n",
        "plt.show()"
      ],
      "execution_count": 54,
      "outputs": [
        {
          "output_type": "stream",
          "text": [
            "Vector X is  [[5 7]]\n"
          ],
          "name": "stdout"
        },
        {
          "output_type": "display_data",
          "data": {
            "image/png": "[encoded data removed]",
            "text/plain": [
              "<Figure size 432x288 with 1 Axes>"
            ]
          },
          "metadata": {
            "tags": [],
            "needs_background": "light"
          }
        }
      ]
    },
    {
      "cell_type": "markdown",
      "metadata": {
        "id": "FiQ8-8INBwnV"
      },
      "source": [
        "This shows the operation of addition and subtraction where the resultant vectors are plotted"
      ]
    },
    {
      "cell_type": "code",
      "metadata": {
        "colab": {
          "base_uri": "https://localhost:8080/",
          "height": 282
        },
        "id": "YhkwzzaU2y7T",
        "outputId": "d23cb559-aed3-44b7-a830-a225272acc83"
      },
      "source": [
        "R = np.multiply(position3, position4)\r\n",
        "X = np.divide(R, position1)\r\n",
        "x\r\n",
        "print('Vector X is ', X)\r\n",
        "plt.scatter(X[0],X[0], label='X', c='magenta')\r\n",
        "plt.grid()\r\n",
        "plt.legend()\r\n",
        "plt.show()"
      ],
      "execution_count": 61,
      "outputs": [
        {
          "output_type": "stream",
          "text": [
            "Vector X is  [[30.         18.66666667]]\n"
          ],
          "name": "stdout"
        },
        {
          "output_type": "display_data",
          "data": {
            "image/png": "[encoded data removed]",
            "text/plain": [
              "<Figure size 432x288 with 1 Axes>"
            ]
          },
          "metadata": {
            "tags": [],
            "needs_background": "light"
          }
        }
      ]
    },
    {
      "cell_type": "markdown",
      "metadata": {
        "id": "F_5-YzpvB-Nl"
      },
      "source": [
        "This shows the operation of multiplication and division where the resultant vectors are plotted"
      ]
    },
    {
      "cell_type": "code",
      "metadata": {
        "colab": {
          "base_uri": "https://localhost:8080/",
          "height": 282
        },
        "id": "hoGXtIcB3O_A",
        "outputId": "87ef6210-3023-4c82-ef2d-306e0cd4ae23"
      },
      "source": [
        "R = np.square(position1)\r\n",
        "X = np.sqrt(R)\r\n",
        "X\r\n",
        "print('Vector X is ', X)\r\n",
        "plt.scatter(X[0],X[0], label='X', c='magenta')\r\n",
        "plt.grid()\r\n",
        "plt.legend()\r\n",
        "plt.show()"
      ],
      "execution_count": 62,
      "outputs": [
        {
          "output_type": "stream",
          "text": [
            "Vector X is  [[1. 3.]]\n"
          ],
          "name": "stdout"
        },
        {
          "output_type": "display_data",
          "data": {
            "image/png": "[encoded data removed]",
            "text/plain": [
              "<Figure size 432x288 with 1 Axes>"
            ]
          },
          "metadata": {
            "tags": [],
            "needs_background": "light"
          }
        }
      ]
    },
    {
      "cell_type": "markdown",
      "metadata": {
        "id": "Vx5LYY6TCGEU"
      },
      "source": [
        "This shows the square operation and the where the resultant vectors are plotted"
      ]
    },
    {
      "cell_type": "code",
      "metadata": {
        "colab": {
          "base_uri": "https://localhost:8080/",
          "height": 282
        },
        "id": "SBKqevbi3zYb",
        "outputId": "c00d5430-f463-49f1-b83c-48a37649ecc6"
      },
      "source": [
        "R1 = np.add(position1,position2)\r\n",
        "R2 = np.add(R1,position3)\r\n",
        "X = np.add(R2,position4)\r\n",
        "X\r\n",
        "print('Vector X is ', X)\r\n",
        "plt.scatter(X[0],X[0], label='X', c='magenta')\r\n",
        "plt.grid()\r\n",
        "plt.legend()\r\n",
        "plt.show()"
      ],
      "execution_count": 63,
      "outputs": [
        {
          "output_type": "stream",
          "text": [
            "Vector X is  [[14 22]]\n"
          ],
          "name": "stdout"
        },
        {
          "output_type": "display_data",
          "data": {
            "image/png": "[encoded data removed]",
            "text/plain": [
              "<Figure size 432x288 with 1 Axes>"
            ]
          },
          "metadata": {
            "tags": [],
            "needs_background": "light"
          }
        }
      ]
    },
    {
      "cell_type": "markdown",
      "metadata": {
        "id": "UGCNULD_CVoM"
      },
      "source": [
        "This shows the summation and where the resulting vectors are plotted"
      ]
    },
    {
      "cell_type": "code",
      "metadata": {
        "id": "bQD6SrfO7Ev1"
      },
      "source": [
        "\r\n"
      ],
      "execution_count": 63,
      "outputs": []
    }
  ]
}