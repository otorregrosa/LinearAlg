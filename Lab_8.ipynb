{
  "nbformat": 4,
  "nbformat_minor": 0,
  "metadata": {
    "colab": {
      "name": "Lab 8.ipynb",
      "provenance": [],
      "authorship_tag": "ABX9TyPg06ofqeHdcTPQzqmXjmWZ",
      "include_colab_link": true
    },
    "kernelspec": {
      "name": "python3",
      "display_name": "Python 3"
    },
    "language_info": {
      "name": "python"
    }
  },
  "cells": [
    {
      "cell_type": "markdown",
      "metadata": {
        "id": "view-in-github",
        "colab_type": "text"
      },
      "source": [
        "<a href=\"https://colab.research.google.com/github/otorregrosa/LinearAlg/blob/main/Lab_8.ipynb\" target=\"_parent\"><img src=\"https://colab.research.google.com/assets/colab-badge.svg\" alt=\"Open In Colab\"/></a>"
      ]
    },
    {
      "cell_type": "markdown",
      "metadata": {
        "id": "EkXYbSIBQ9bQ"
      },
      "source": [
        "$$ A = \\left\\{ \\begin{array}\\\\ 9x+y+9z=20\\\\ 3x+9y+5z=18 \\\\ 7x+2y+8z=25 \\end{array} \\right. $$"
      ]
    },
    {
      "cell_type": "code",
      "metadata": {
        "id": "_MTNZzY2Q6ex"
      },
      "source": [
        "import numpy as np\n",
        "import matplotlib.pyplot as plt\n",
        "%matplotlib inline"
      ],
      "execution_count": 1,
      "outputs": []
    },
    {
      "cell_type": "code",
      "metadata": {
        "colab": {
          "base_uri": "https://localhost:8080/"
        },
        "id": "J9-t441FRiDO",
        "outputId": "05c38fa8-907b-4328-f8b6-ce8b84659a60"
      },
      "source": [
        "x = np.array([\n",
        "    [9,1,9],\n",
        "    [3,9,5],\n",
        "    [7,2,8]\n",
        "])\n",
        "\n",
        "y = np.array([\n",
        "    [20],\n",
        "    [18],\n",
        "    [25]\n",
        "])\n",
        "\n",
        "print(\"Matrix x: \\n\", x)\n",
        "print(\"\\nMatrix y: \\n\", y)\n",
        "\n",
        "\n",
        "x_inv = np.linalg.inv(x)\n",
        "print(\"\\nResult: \")\n",
        "print(x_inv @ y)"
      ],
      "execution_count": 7,
      "outputs": [
        {
          "output_type": "stream",
          "text": [
            "Matrix x: \n",
            " [[9 1 9]\n",
            " [3 9 5]\n",
            " [7 2 8]]\n",
            "\n",
            "Matrix y: \n",
            " [[20]\n",
            " [18]\n",
            " [25]]\n",
            "\n",
            "Result: \n",
            "[[-8.57142857]\n",
            " [-1.21428571]\n",
            " [10.92857143]]\n"
          ],
          "name": "stdout"
        }
      ]
    },
    {
      "cell_type": "code",
      "metadata": {
        "colab": {
          "base_uri": "https://localhost:8080/"
        },
        "id": "ziQQe3XLUMPK",
        "outputId": "0f32ee87-73f5-4018-b078-3a1bb6263462"
      },
      "source": [
        "x_inv1 = np.linalg.solve(x, y)\n",
        "\n",
        "print(\"Matrix x: \\n\", x)\n",
        "print(\"\\nMatrix y: \\n\", y)\n",
        "\n",
        "print(\"\\nResult: \")\n",
        "print(x_inv1)"
      ],
      "execution_count": 8,
      "outputs": [
        {
          "output_type": "stream",
          "text": [
            "Matrix x: \n",
            " [[9 1 9]\n",
            " [3 9 5]\n",
            " [7 2 8]]\n",
            "\n",
            "Matrix y: \n",
            " [[20]\n",
            " [18]\n",
            " [25]]\n",
            "\n",
            "Result: \n",
            "[[-8.57142857]\n",
            " [-1.21428571]\n",
            " [10.92857143]]\n"
          ],
          "name": "stdout"
        }
      ]
    },
    {
      "cell_type": "markdown",
      "metadata": {
        "id": "LbYR-TFzVw8L"
      },
      "source": [
        "$Let : \\\\ \n",
        "a = \\text{bag of rice}, b = \\text{kilogram of meat}, c = \\text{piece of egg} \\\\ \\\\\n",
        "M_1: 30a + 10b + 150c = 9,500 \\\\\n",
        "M_2: 18a + 18b + 200c = 13,000 \\\\\n",
        "M_3: 40a + 32b + 250c = 16,500$\n",
        "\n"
      ]
    },
    {
      "cell_type": "markdown",
      "metadata": {
        "id": "8VorIiILYUeN"
      },
      "source": [
        "$$\\begin{bmatrix}30&10&150\\\\18&18&200\\\\40&32&250\\end{bmatrix}\\cdot\\begin{bmatrix}a\\\\b\\\\c\\end{bmatrix} = \\begin{bmatrix}9,500\\\\13,000\\\\16,500\\end{bmatrix}$$"
      ]
    },
    {
      "cell_type": "code",
      "metadata": {
        "id": "gNQF_lUsVsTW"
      },
      "source": [
        "quantities = np.array([\n",
        "    [30, 10, 150],\n",
        "    [18, 18, 200],\n",
        "    [40, 32, 250]\n",
        "])\n",
        "cost = np.array([\n",
        "    [9500],\n",
        "    [13000],\n",
        "    [16500]\n",
        "])"
      ],
      "execution_count": 41,
      "outputs": []
    },
    {
      "cell_type": "code",
      "metadata": {
        "colab": {
          "base_uri": "https://localhost:8080/"
        },
        "id": "POf3WAmyYGHw",
        "outputId": "69048010-d123-473f-e67e-62dc85af89ad"
      },
      "source": [
        "prices = np.linalg.inv(quantities) @ cost \n",
        "print('The price of one sack of flour is: PHP {:.2f}'.format(float(prices[0])))\n",
        "print('The price of one pack of yeast is: PHP {:.2f}'.format(float(prices[1])))\n",
        "print('The price of one piece of egg is: PHP {:.2f}'.format(float(prices[2])))\n"
      ],
      "execution_count": 42,
      "outputs": [
        {
          "output_type": "stream",
          "text": [
            "The price of one sack of flour is: PHP -6.88\n",
            "The price of one pack of yeast is: PHP 38.99\n",
            "The price of one piece of egg is: PHP 62.11\n"
          ],
          "name": "stdout"
        }
      ]
    },
    {
      "cell_type": "code",
      "metadata": {
        "colab": {
          "base_uri": "https://localhost:8080/"
        },
        "id": "SmyajARvYjHM",
        "outputId": "ed1f8d8e-3eaa-434f-91f2-d99ef40c42fd"
      },
      "source": [
        "np.linalg.solve(quantities, cost) "
      ],
      "execution_count": 40,
      "outputs": [
        {
          "output_type": "execute_result",
          "data": {
            "text/plain": [
              "array([[-6.88073394],\n",
              "       [38.99082569],\n",
              "       [62.11009174]])"
            ]
          },
          "metadata": {
            "tags": []
          },
          "execution_count": 40
        }
      ]
    }
  ]
}