{
  "nbformat": 4,
  "nbformat_minor": 0,
  "metadata": {
    "colab": {
      "name": "Untitled0.ipynb",
      "provenance": [],
      "authorship_tag": "ABX9TyNkWUuLE4p8f4z1PJ0LYqpH",
      "include_colab_link": true
    },
    "kernelspec": {
      "name": "python3",
      "display_name": "Python 3"
    }
  },
  "cells": [
    {
      "cell_type": "markdown",
      "metadata": {
        "id": "view-in-github",
        "colab_type": "text"
      },
      "source": [
        "<a href=\"https://colab.research.google.com/github/otorregrosa/LinearAlg/blob/main/Laboratory%201.ipynb\" target=\"_parent\"><img src=\"https://colab.research.google.com/assets/colab-badge.svg\" alt=\"Open In Colab\"/></a>"
      ]
    },
    {
      "cell_type": "code",
      "metadata": {
        "id": "2jwxe1nQx3RT"
      },
      "source": [
        ""
      ],
      "execution_count": null,
      "outputs": []
    },
    {
      "cell_type": "code",
      "metadata": {
        "id": "nmRtZZZfjkch",
        "colab": {
          "base_uri": "https://localhost:8080/"
        },
        "outputId": "1cdaf33a-4ec9-4e0d-ed1a-531ab87fb99f"
      },
      "source": [
        "name = input(\"Student Name: \")\r\n",
        "course = input(\"Course: \")\r\n",
        "prelim_grade = float(input(\"Prelim Grade: \"))\r\n",
        "midterm_grade = float(input(\"Midterm Grade: \"))\r\n",
        "final_8grade = float(input(\"Final Grade: \"))\r\n",
        "sum = float(0)\r\n",
        "average = float(0)\r\n",
        "\r\n",
        "sum = (prelim_grade + midterm_grade + final_grade)\r\n",
        "average = ( sum / 3 )\r\n",
        "happy, laughing, sad = \"\\U0001F600\",\"\\U0001F606\",\"\\U0001F62D\"\r\n",
        "\r\n",
        "numeral1, numeral2 = 11, 12\r\n",
        "if (average == 70.00):\r\n",
        "    print(\"Semestral Grade: {:.2f}\".format(average),laughing)\r\n",
        "elif(average > 70.00):\r\n",
        "    print(\"Semestral Grade: {:.2f}\".format(average),happy)\r\n",
        "else:\r\n",
        "    print(\"Semestral Grade: {:.2f}\".format(average),sad)\r\n",
        "\r\n",
        "\r\n",
        "\r\n"
      ],
      "execution_count": null,
      "outputs": [
        {
          "output_type": "stream",
          "text": [
            "Student Name: othello\n",
            "Course: bs cpe\n",
            "Prelim Grade: 95\n",
            "Midterm Grade: 75\n",
            "Final Grade: 85\n",
            "Semestral Grade: 86.33 😀\n"
          ],
          "name": "stdout"
        }
      ]
    }
  ]
}