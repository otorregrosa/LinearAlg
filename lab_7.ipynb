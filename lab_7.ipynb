{
  "nbformat": 4,
  "nbformat_minor": 0,
  "metadata": {
    "colab": {
      "name": "lab 7",
      "provenance": [],
      "authorship_tag": "ABX9TyM2WEk0s8bgVMXCHiWPaPOh",
      "include_colab_link": true
    },
    "kernelspec": {
      "name": "python3",
      "display_name": "Python 3"
    },
    "language_info": {
      "name": "python"
    }
  },
  "cells": [
    {
      "cell_type": "markdown",
      "metadata": {
        "id": "view-in-github",
        "colab_type": "text"
      },
      "source": [
        "<a href=\"https://colab.research.google.com/github/otorregrosa/LinearAlg/blob/main/lab_7.ipynb\" target=\"_parent\"><img src=\"https://colab.research.google.com/assets/colab-badge.svg\" alt=\"Open In Colab\"/></a>"
      ]
    },
    {
      "cell_type": "code",
      "metadata": {
        "id": "QYwjhBi8IA6J"
      },
      "source": [
        "import numpy as np\n",
        "import matplotlib.pyplot as plt\n",
        "%matplotlib inline"
      ],
      "execution_count": 1,
      "outputs": []
    },
    {
      "cell_type": "markdown",
      "metadata": {
        "id": "_f4J_du4IRA2"
      },
      "source": [
        "Prove and implement the remaining 6 matrix multiplication properties. You may create your own matrices in which their shapes should not be lower than (3,3). In your methodology, create individual flowcharts for each property and discuss the property you would then present your proofs or validity of your implementation in the results section by comparing your result to present functions from NumPy."
      ]
    },
    {
      "cell_type": "code",
      "metadata": {
        "colab": {
          "base_uri": "https://localhost:8080/"
        },
        "id": "mW8X9nVxICSX",
        "outputId": "5f34c31b-0961-41ad-fcac-52036ddc7973"
      },
      "source": [
        "A = np.array([\n",
        "    [7,2,8],\n",
        "    [3,6,9],\n",
        "    [5,7,9]\n",
        "])\n",
        "B = np.array([\n",
        "    [9,1,9],\n",
        "    [3,9,5],\n",
        "    [3,5,7]\n",
        "])\n",
        "C = np.array([\n",
        "    [2,4,6],\n",
        "    [9,8,7],\n",
        "    [6,5,4]\n",
        "])\n",
        "print(\"A = \\n\", A)\n",
        "print(\"B = \\n\", B)\n",
        "print(\"C = \\n\", C)"
      ],
      "execution_count": 4,
      "outputs": [
        {
          "output_type": "stream",
          "text": [
            "A = \n",
            " [[7 2 8]\n",
            " [3 6 9]\n",
            " [5 7 9]]\n",
            "B = \n",
            " [[9 1 9]\n",
            " [3 9 5]\n",
            " [3 5 7]]\n",
            "C = \n",
            " [[2 4 6]\n",
            " [9 8 7]\n",
            " [6 5 4]]\n"
          ],
          "name": "stdout"
        }
      ]
    },
    {
      "cell_type": "code",
      "metadata": {
        "colab": {
          "base_uri": "https://localhost:8080/"
        },
        "id": "UeoESVSKKTp5",
        "outputId": "3fb5934a-4645-416e-8304-39a817453759"
      },
      "source": [
        "AT1 = np.transpose(A)\n",
        "AT2 = A.T\n",
        "np.array_equiv(AT1, AT2)"
      ],
      "execution_count": 5,
      "outputs": [
        {
          "output_type": "execute_result",
          "data": {
            "text/plain": [
              "True"
            ]
          },
          "metadata": {
            "tags": []
          },
          "execution_count": 5
        }
      ]
    },
    {
      "cell_type": "code",
      "metadata": {
        "colab": {
          "base_uri": "https://localhost:8080/"
        },
        "id": "4LPjGw5pKhxe",
        "outputId": "ecd712f2-7eea-4f47-9f7e-fccf9e24796e"
      },
      "source": [
        "B.shape\n",
        "np.transpose(B).shape\n",
        "B.T.shape"
      ],
      "execution_count": 6,
      "outputs": [
        {
          "output_type": "execute_result",
          "data": {
            "text/plain": [
              "(3, 3)"
            ]
          },
          "metadata": {
            "tags": []
          },
          "execution_count": 6
        }
      ]
    },
    {
      "cell_type": "markdown",
      "metadata": {
        "id": "BkyQ3oLeZA3Q"
      },
      "source": [
        "$$ A \\cdot B \\neq B \\cdot A $$"
      ]
    },
    {
      "cell_type": "code",
      "metadata": {
        "id": "j3sN0y76Jtut",
        "colab": {
          "base_uri": "https://localhost:8080/"
        },
        "outputId": "7d7e51f9-8c61-40ff-88f8-7b229449af08"
      },
      "source": [
        "print(\"A@B = \\n\", A @ B)\n",
        "print(\"B@A = \\n\", B @ A)\n",
        "np.array_equiv(A @ B, B @ A)"
      ],
      "execution_count": 9,
      "outputs": [
        {
          "output_type": "stream",
          "text": [
            "A@B = \n",
            " [[ 93  65 129]\n",
            " [ 72 102 120]\n",
            " [ 93 113 143]]\n",
            "\n",
            "B@A = \n",
            " [[111  87 162]\n",
            " [ 73  95 150]\n",
            " [ 71  85 132]]\n"
          ],
          "name": "stdout"
        },
        {
          "output_type": "execute_result",
          "data": {
            "text/plain": [
              "False"
            ]
          },
          "metadata": {
            "tags": []
          },
          "execution_count": 9
        }
      ]
    },
    {
      "cell_type": "markdown",
      "metadata": {
        "id": "M6ABADFma0nc"
      },
      "source": [
        "$$A \\cdot (B \\cdot C) = (A \\cdot B) \\cdot C$$"
      ]
    },
    {
      "cell_type": "code",
      "metadata": {
        "colab": {
          "base_uri": "https://localhost:8080/"
        },
        "id": "GbMHCviyY65v",
        "outputId": "8ec3b784-86b3-4be6-adef-0166c85a94a5"
      },
      "source": [
        "print(\"A@(B@C) = \\n\", (A @ (B@C)))\n",
        "print(\"(A@B)@C = \\n\", ((A@B) @ C))\n",
        "np.array_equiv( (A @ (B@C)), ((A@B) @ C))"
      ],
      "execution_count": 10,
      "outputs": [
        {
          "output_type": "stream",
          "text": [
            "A@(B@C) = \n",
            " [[1545 1537 1529]\n",
            " [1782 1704 1626]\n",
            " [2061 1991 1921]]\n",
            "\n",
            "(A@B)@C = \n",
            " [[1545 1537 1529]\n",
            " [1782 1704 1626]\n",
            " [2061 1991 1921]]\n"
          ],
          "name": "stdout"
        },
        {
          "output_type": "execute_result",
          "data": {
            "text/plain": [
              "True"
            ]
          },
          "metadata": {
            "tags": []
          },
          "execution_count": 10
        }
      ]
    },
    {
      "cell_type": "markdown",
      "metadata": {
        "id": "i87ixmf3bCuf"
      },
      "source": [
        "$$A \\cdot (B + C) = (A \\cdot B) + (A \\cdot C)$$"
      ]
    },
    {
      "cell_type": "code",
      "metadata": {
        "colab": {
          "base_uri": "https://localhost:8080/"
        },
        "id": "5wM26rHjbDbo",
        "outputId": "ca677363-7f43-45da-9155-b052069b0a64"
      },
      "source": [
        "print(\"A@(B+C) = \\n\", (A @ (B+C)))\n",
        "print(\"(A@B)+(A@C) = \\n\", ((A@B) + (A@C)))\n",
        "np.array_equiv( (A @ (B+C)), ((A@B) + (A@C)))"
      ],
      "execution_count": 11,
      "outputs": [
        {
          "output_type": "stream",
          "text": [
            "A@(B+C) = \n",
            " [[173 149 217]\n",
            " [186 207 216]\n",
            " [220 234 258]]\n",
            "\n",
            "(A@B)+(A@C) = \n",
            " [[173 149 217]\n",
            " [186 207 216]\n",
            " [220 234 258]]\n"
          ],
          "name": "stdout"
        },
        {
          "output_type": "execute_result",
          "data": {
            "text/plain": [
              "True"
            ]
          },
          "metadata": {
            "tags": []
          },
          "execution_count": 11
        }
      ]
    },
    {
      "cell_type": "markdown",
      "metadata": {
        "id": "Qe-yHd-EbhRn"
      },
      "source": [
        "$$(B + C) \\cdot A = (B \\cdot A) + (C \\cdot A)$$"
      ]
    },
    {
      "cell_type": "code",
      "metadata": {
        "colab": {
          "base_uri": "https://localhost:8080/"
        },
        "id": "VrYzPBS_bj9R",
        "outputId": "37e024f6-cf08-490d-9f92-fe41957ecb1d"
      },
      "source": [
        "print(\"(B+C)@A = \\n\", ((B+C) @ A))\n",
        "print(\"(B@A)+(C@A) = \\n\", ((B@A) + (C@A)))\n",
        "np.array_equiv( ((B+C) @ A), ((B@A) + (C@A)))"
      ],
      "execution_count": 12,
      "outputs": [
        {
          "output_type": "stream",
          "text": [
            "(B+C)@A = \n",
            " [[167 157 268]\n",
            " [195 210 357]\n",
            " [148 155 261]]\n",
            "(B@A)+(C@A) = \n",
            " [[167 157 268]\n",
            " [195 210 357]\n",
            " [148 155 261]]\n"
          ],
          "name": "stdout"
        },
        {
          "output_type": "execute_result",
          "data": {
            "text/plain": [
              "True"
            ]
          },
          "metadata": {
            "tags": []
          },
          "execution_count": 12
        }
      ]
    },
    {
      "cell_type": "markdown",
      "metadata": {
        "id": "JqInhQWkbphS"
      },
      "source": [
        "$$A \\cdot D = A$$"
      ]
    },
    {
      "cell_type": "code",
      "metadata": {
        "colab": {
          "base_uri": "https://localhost:8080/"
        },
        "id": "DaknxTv0bqG4",
        "outputId": "e7a0b49a-bcff-478c-e623-f981a6459f7e"
      },
      "source": [
        "D = np.eye(3, dtype=int)\n",
        "print(\"A@D = \\n\", A @ D)\n",
        "print(\"A = \\n\", A)\n",
        "np.array_equiv((A @ D), A)"
      ],
      "execution_count": 13,
      "outputs": [
        {
          "output_type": "stream",
          "text": [
            "A@D = \n",
            " [[7 2 8]\n",
            " [3 6 9]\n",
            " [5 7 9]]\n",
            "A = \n",
            " [[7 2 8]\n",
            " [3 6 9]\n",
            " [5 7 9]]\n"
          ],
          "name": "stdout"
        },
        {
          "output_type": "execute_result",
          "data": {
            "text/plain": [
              "True"
            ]
          },
          "metadata": {
            "tags": []
          },
          "execution_count": 13
        }
      ]
    },
    {
      "cell_type": "markdown",
      "metadata": {
        "id": "_CGmG04WbqnH"
      },
      "source": [
        "$$A \\cdot \\emptyset = \\emptyset$$"
      ]
    },
    {
      "cell_type": "code",
      "metadata": {
        "colab": {
          "base_uri": "https://localhost:8080/"
        },
        "id": "LWPUqEMNbq42",
        "outputId": "3dd8149f-ce06-4c95-e8bf-c09e66bac586"
      },
      "source": [
        "Zero_Amat = np.zeros(A.shape)\n",
        "A_zero = A @ np.zeros(A.shape)\n",
        "print(\"A @ \\emptyset =\")\n",
        "print(A_zero)\n",
        "print(\"\\nEmpty set/matrix =\")\n",
        "print(Zero_Amat)\n",
        "np.array_equal(A_zero, Zero_Amat)"
      ],
      "execution_count": 14,
      "outputs": [
        {
          "output_type": "stream",
          "text": [
            "A @ \\emptyset =\n",
            "[[0. 0. 0.]\n",
            " [0. 0. 0.]\n",
            " [0. 0. 0.]]\n",
            "\n",
            "Empty set/matrix =\n",
            "[[0. 0. 0.]\n",
            " [0. 0. 0.]\n",
            " [0. 0. 0.]]\n"
          ],
          "name": "stdout"
        },
        {
          "output_type": "execute_result",
          "data": {
            "text/plain": [
              "True"
            ]
          },
          "metadata": {
            "tags": []
          },
          "execution_count": 14
        }
      ]
    }
  ]
}